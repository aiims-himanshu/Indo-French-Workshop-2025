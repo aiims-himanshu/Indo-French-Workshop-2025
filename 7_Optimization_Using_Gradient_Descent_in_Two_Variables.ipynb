{
  "cells": [
    {
      "cell_type": "markdown",
      "metadata": {
        "id": "view-in-github",
        "colab_type": "text"
      },
      "source": [
        "<a href=\"https://colab.research.google.com/github/aiims-himanshu/Indo-French-Workshop-2025/blob/main/7_Optimization_Using_Gradient_Descent_in_Two_Variables.ipynb\" target=\"_parent\"><img src=\"https://colab.research.google.com/assets/colab-badge.svg\" alt=\"Open In Colab\"/></a>"
      ]
    },
    {
      "cell_type": "markdown",
      "id": "5e797b86",
      "metadata": {
        "id": "5e797b86"
      },
      "source": [
        "# Optimization Using Gradient Descent in Two Variables"
      ]
    },
    {
      "cell_type": "markdown",
      "id": "c29d4eb9",
      "metadata": {
        "id": "c29d4eb9"
      },
      "source": [
        "In this lab, you will implement and visualize the gradient descent method optimizing some functions in two variables. You will have a chance to experiment with the initial parameters, and investigate the results and limitations of the method."
      ]
    },
    {
      "cell_type": "markdown",
      "id": "18491c07",
      "metadata": {
        "id": "18491c07"
      },
      "source": [
        "# Table of Contents\n",
        "\n",
        "- [ 1 - Function with One Global Minimum](#1)\n",
        "- [ 2 - Function with Multiple Minima](#2)"
      ]
    },
    {
      "cell_type": "markdown",
      "id": "4bd109eb",
      "metadata": {
        "id": "4bd109eb"
      },
      "source": [
        "## Packages\n",
        "\n",
        "Run the following cell to load the packages you'll need."
      ]
    },
    {
      "cell_type": "code",
      "source": [
        "import time\n",
        "import numpy as np\n",
        "import matplotlib.pyplot as plt\n",
        "from matplotlib.widgets import Button\n",
        "from matplotlib.patches import FancyArrowPatch\n",
        "from matplotlib.gridspec import GridSpec\n",
        "from IPython.display import display, clear_output\n",
        "\n",
        "\n",
        "def plot_f(x_range, y_range, f, ox_position):\n",
        "    x = np.linspace(*x_range, 100)\n",
        "    fig, ax = plt.subplots(1,1,figsize=(8,4))\n",
        "\n",
        "    fig.canvas.toolbar_visible = False\n",
        "    fig.canvas.header_visible = False\n",
        "    fig.canvas.footer_visible = False\n",
        "\n",
        "    ax.set_ylim(*y_range)\n",
        "    ax.set_xlim(*x_range)\n",
        "    ax.set_ylabel('$f$')\n",
        "    ax.set_xlabel('$x$')\n",
        "    ax.spines['left'].set_position('zero')\n",
        "    ax.spines['bottom'].set_position(('data', ox_position))\n",
        "    ax.spines['right'].set_color('none')\n",
        "    ax.spines['top'].set_color('none')\n",
        "    ax.xaxis.set_ticks_position('bottom')\n",
        "    ax.yaxis.set_ticks_position('left')\n",
        "    ax.autoscale(enable=False)\n",
        "\n",
        "    pf = ax.plot(x, f(x), 'k')\n",
        "\n",
        "    return fig, ax\n",
        "\n",
        "\n",
        "class gradient_descent_one_variable:\n",
        "    \"\"\" class to run one interactive plot \"\"\"\n",
        "    def __init__(self, x_range, y_range, f, dfdx, gd, n_it, lr, x_0, ox_position, t_position):\n",
        "        x = np.linspace(*x_range, 100)\n",
        "        fig, ax = plot_f(x_range, y_range, f, ox_position)\n",
        "\n",
        "        # Initialize plot.\n",
        "        self.fig = fig\n",
        "        self.ax = ax\n",
        "        self.x = x\n",
        "        self.f = f\n",
        "        self.dfdx = dfdx\n",
        "        self.gd = gd\n",
        "        self.n_it = n_it\n",
        "        self.lr = lr\n",
        "        self.x_0 = x_0\n",
        "        self.x_range = x_range\n",
        "        self.i = 0\n",
        "        self.ox_position = ox_position\n",
        "        self.t_position = t_position\n",
        "\n",
        "        self.update_plot_point(firsttime=True)\n",
        "        self.path = path(self.x_0, self.ax, self.ox_position)  # initialize an empty path, avoids existance check\n",
        "\n",
        "        time.sleep(0.2)\n",
        "        clear_output(wait=True)\n",
        "        display(self.fig)\n",
        "\n",
        "        self.run_gd()\n",
        "        self.cpoint = self.fig.canvas.mpl_connect('button_press_event', self.click_plot)\n",
        "\n",
        "    def click_plot(self, event):\n",
        "        ''' Called when click in plot '''\n",
        "        if (event.xdata <= max(self.x) and event.xdata >= min(self.x)):\n",
        "            self.x_0 = event.xdata\n",
        "            self.i = 0\n",
        "            self.path.re_init(self.x_0)\n",
        "            self.update_plot_point()\n",
        "            time.sleep(0.2)\n",
        "            self.run_gd()\n",
        "\n",
        "    def update_plot_point(self, firsttime=False):\n",
        "\n",
        "        # Remove items and re-add them on plot.\n",
        "        if not firsttime:\n",
        "            for artist in self.p_items:\n",
        "                artist.remove()\n",
        "\n",
        "        a = self.ax.scatter(self.x_0, self.f(self.x_0), marker='o', s=100, color='r', zorder=10)\n",
        "        b = self.ax.scatter(self.x_0, self.ox_position, marker='o', s=100, color='k', zorder=10)\n",
        "        c = self.ax.hlines(self.f(self.x_0), 0, self.x_0, lw=2, ls='dotted', color='k')\n",
        "        d = self.ax.vlines(self.x_0, self.ox_position, self.f(self.x_0), lw=2, ls='dotted', color='k')\n",
        "        t_it = self.ax.annotate(f\"Iteration #${self.i}$\", xy=(self.t_position[0], self.t_position[1]),\n",
        "                                xytext=(4,4), textcoords='offset points', size=10)\n",
        "        t_x_0 = self.ax.annotate(f\"$x_0 = {self.x_0:0.4f}$\", xy=(self.t_position[0], self.t_position[1]-1),\n",
        "                                 xytext=(4,4), textcoords='offset points', size=10)\n",
        "        t_f = self.ax.annotate(f\"$f\\\\,\\\\left(x_0\\\\right) = {self.f(self.x_0):0.2f}$\",\n",
        "                               xy=(self.t_position[0], self.t_position[1]-2), xytext=(4,4),\n",
        "                              textcoords='offset points', size=10)\n",
        "        t_dfdx = self.ax.annotate(f\"$f\\\\,'\\\\left(x_0\\\\right) = {self.dfdx(self.x_0):0.4f}$\",\n",
        "                                  xy=(self.t_position[0], self.t_position[1]-3),\n",
        "                                  xytext=(4,4), textcoords='offset points', size=10)\n",
        "\n",
        "        self.p_items = [a, b, c, d, t_it, t_x_0, t_f, t_dfdx]\n",
        "        self.fig.canvas.draw()\n",
        "\n",
        "    def run_gd(self):\n",
        "        self.i = 1\n",
        "        x_0_new = self.gd(self.dfdx, self.x_0, self.lr, 1)\n",
        "        while (self.i <= self.n_it and abs(self.dfdx(x_0_new)) >= 0.00001 and x_0_new >= self.x_range[0]):\n",
        "            x_0_new = self.gd(self.dfdx, self.x_0, self.lr, 1)\n",
        "            self.path.add_path_item(x_0_new, self.f)\n",
        "            self.x_0 = x_0_new\n",
        "            time.sleep(0.05)\n",
        "            self.update_plot_point()\n",
        "            clear_output(wait=True)\n",
        "            display(self.fig)\n",
        "            self.i += 1\n",
        "\n",
        "        if abs(self.dfdx(self.x_0)) >= 0.00001 or self.x_0 < self.x_range[0] or self.x_0 < self.x_range[0]:\n",
        "            t_res = self.ax.annotate(\"Has Not Converged\", xy=(self.t_position[0], self.t_position[1]-4),\n",
        "                             xytext=(4,4), textcoords='offset points', size=10)\n",
        "        else:\n",
        "            t_res = self.ax.annotate(\"Converged\", xy=(self.t_position[0], self.t_position[1]-4),\n",
        "                             xytext=(4,4), textcoords='offset points', size=10)\n",
        "        t_instruction = self.ax.text(0.3,0.95,\"[Click on the plot to choose initial point]\",\n",
        "                                     size=10, color=\"r\", transform=self.ax.transAxes)\n",
        "        self.p_items.append(t_res)\n",
        "        self.p_items.append(t_instruction)\n",
        "        # Clear last time at the end, so there is no duplicate with the cell output.\n",
        "        clear_output(wait=True)\n",
        "#         plt.close()\n",
        "\n",
        "\n",
        "class path:\n",
        "    ''' tracks paths during gradient descent on the plot '''\n",
        "    def __init__(self, x_0, ax, ox_position):\n",
        "        ''' x_0 at start of path '''\n",
        "        self.path_items = []\n",
        "        self.x_0 = x_0\n",
        "        self.ax = ax\n",
        "        self.ox_position = ox_position\n",
        "\n",
        "    def re_init(self, x_0):\n",
        "        for artist in self.path_items:\n",
        "            artist.remove()\n",
        "        self.path_items = []\n",
        "        self.x_0 = x_0\n",
        "\n",
        "    def add_path_item(self, x_0, f):\n",
        "        a = FancyArrowPatch(\n",
        "            posA=(self.x_0, self.ox_position), posB=(x_0, self.ox_position), color='r',\n",
        "            arrowstyle='simple, head_width=5, head_length=10, tail_width=1.0',\n",
        "        )\n",
        "        b = self.ax.scatter(self.x_0, f(self.x_0), facecolors='none', edgecolors='r', ls='dotted', s=100, zorder=10)\n",
        "        self.ax.add_artist(a)\n",
        "        self.path_items.append(a)\n",
        "        self.path_items.append(b)\n",
        "        self.x_0 = x_0\n",
        "\n",
        "\n",
        "# +\n",
        "def f_example_2(x):\n",
        "    return (np.exp(x) - np.log(x))*np.sin(np.pi*x*2)\n",
        "\n",
        "def dfdx_example_2(x):\n",
        "    return (np.exp(x) - 1/x)*np.sin(np.pi*x*2) + (np.exp(x) - \\\n",
        "              np.log(x))*np.cos(np.pi*x*2)*2*np.pi\n",
        "\n",
        "\n",
        "# +\n",
        "def f_example_3(x,y):\n",
        "    return (85+ 0.1*(- 1/9*(x-6)*x**2*y**3 + 2/3*(x-6)*x**2*y**2))\n",
        "\n",
        "def dfdx_example_3(x,y):\n",
        "    return 0.1/3*x*y**2*(2-y/3)*(3*x-12)\n",
        "\n",
        "def dfdy_example_3(x,y):\n",
        "    return 0.1/3*(x-6)*x**2*y*(4-y)\n",
        "\n",
        "\n",
        "# +\n",
        "def f_example_4(x,y):\n",
        "    return -(10/(3+3*(x-.5)**2+3*(y-.5)**2) + \\\n",
        "            2/(1+2*((x-3)**2)+2*(y-1.5)**2) + \\\n",
        "            3/(1+.5*((x-3.5)**2)+0.5*(y-4)**2))+10\n",
        "\n",
        "def dfdx_example_4(x,y):\n",
        "    return  -(-2*3*(x-0.5)*10/(3+3*(x-0.5)**2+3*(y-0.5)**2)**2 + \\\n",
        "            -2*2*(x-3)*2/(1+2*((x-3)**2)+2*(y-1.5)**2)**2 +\\\n",
        "            -2*0.5*(x-3.5)*3/(1+.5*((x-3.5)**2)+0.5*(y-4)**2)**2)\n",
        "\n",
        "def dfdy_example_4(x,y):\n",
        "    return -(-2*3*(y-0.5)*10/(3+3*(x-0.5)**2+3*(y-0.5)**2)**2 + \\\n",
        "            -2*2*(y-1.5)*2/(1+2*((x-3)**2)+2*(y-1.5)**2)**2 +\\\n",
        "            -0.5*2*(y-4)*3/(1+.5*((x-3.5)**2)+0.5*(y-4)**2)**2)\n",
        "\n",
        "\n",
        "# -\n",
        "\n",
        "def plot_f_cont_and_surf(x_range, y_range, z_range, f, cmap, view):\n",
        "\n",
        "    fig = plt.figure( figsize=(10,5))\n",
        "    fig.canvas.toolbar_visible = False\n",
        "    fig.canvas.header_visible = False\n",
        "    fig.canvas.footer_visible = False\n",
        "    fig.set_facecolor('#ffffff') #white\n",
        "    gs = GridSpec(1, 2, figure=fig)\n",
        "    axc = fig.add_subplot(gs[0, 0])\n",
        "    axs = fig.add_subplot(gs[0, 1],  projection='3d')\n",
        "\n",
        "    x = np.linspace(*x_range, 51)\n",
        "    y = np.linspace(*y_range, 51)\n",
        "    X,Y = np.meshgrid(x,y)\n",
        "\n",
        "    cont = axc.contour(X, Y, f(X, Y), cmap=cmap, levels=18, linewidths=2, alpha=0.7)\n",
        "    axc.set_xlabel('$x$')\n",
        "    axc.set_ylabel('$y$')\n",
        "    axc.set_xlim(*x_range)\n",
        "    axc.set_ylim(*y_range)\n",
        "    axc.set_aspect(\"equal\")\n",
        "    axc.autoscale(enable=False)\n",
        "\n",
        "    surf = axs.plot_surface(X,Y, f(X,Y), cmap=cmap,\n",
        "                    antialiased=True, cstride=1, rstride=1, alpha=0.69)\n",
        "    axs.set_xlabel('$x$')\n",
        "    axs.set_ylabel('$y$')\n",
        "    axs.set_zlabel('$f$')\n",
        "    axs.set_xlim(*x_range)\n",
        "    axs.set_ylim(*y_range)\n",
        "    axs.set_zlim(*z_range)\n",
        "    axs.view_init(elev=view['elev'], azim=view['azim'])\n",
        "    axs.autoscale(enable=False)\n",
        "\n",
        "    return fig, axc, axs\n",
        "\n",
        "\n",
        "class gradient_descent_two_variables:\n",
        "    \"\"\" class to run one interactive plot \"\"\"\n",
        "    def __init__(self, x_range, y_range, z_range, f, dfdx, dfdy, gd, n_it, lr, x_0, y_0,\n",
        "                 t_position, t_space, instr_position, cmap, view):\n",
        "\n",
        "        x = np.linspace(*x_range, 51)\n",
        "        y = np.linspace(*y_range, 51)\n",
        "        fig, axc, axs = plot_f_cont_and_surf(x_range, y_range, z_range, f, cmap, view)\n",
        "\n",
        "        # Initialize plot.\n",
        "        self.fig = fig\n",
        "        self.axc = axc\n",
        "        self.axs = axs\n",
        "        self.x = x\n",
        "        self.y = y\n",
        "        self.f = f\n",
        "        self.dfdx = dfdx\n",
        "        self.dfdy = dfdy\n",
        "        self.gd = gd\n",
        "        self.n_it = n_it\n",
        "        self.lr = lr\n",
        "        self.x_0 = x_0\n",
        "        self.y_0 = y_0\n",
        "        self.x_range = x_range\n",
        "        self.y_range = y_range\n",
        "        self.i = 0\n",
        "        self.t_position = t_position\n",
        "        self.t_space = t_space\n",
        "        self.instr_position = instr_position\n",
        "\n",
        "        self.update_plot_point(firsttime=True)\n",
        "        self.path = path_2(self.x_0, self.y_0, self.axc, self.axs)  # initialize an empty path, avoids existance check\n",
        "\n",
        "        time.sleep(0.2)\n",
        "        clear_output(wait=True)\n",
        "        display(self.fig)\n",
        "\n",
        "        self.run_gd()\n",
        "        self.cpoint = self.fig.canvas.mpl_connect('button_press_event', self.click_plot)\n",
        "\n",
        "    def click_plot(self, event):\n",
        "        ''' Called when click in plot '''\n",
        "        if (event.xdata <= max(self.x) and event.xdata >= min(self.x) and\n",
        "            event.ydata <= max(self.y) and event.ydata >= min(self.y)):\n",
        "            self.x_0 = event.xdata\n",
        "            self.y_0 = event.ydata\n",
        "            self.i = 0\n",
        "            self.path.re_init(self.x_0, self.y_0)\n",
        "            self.update_plot_point()\n",
        "            time.sleep(0.2)\n",
        "            self.run_gd()\n",
        "\n",
        "    def update_plot_point(self, firsttime=False):\n",
        "\n",
        "        # Remove items and re-add them on plot.\n",
        "        if not firsttime:\n",
        "            for artist in self.p_items:\n",
        "                artist.remove()\n",
        "\n",
        "        a = self.axc.scatter(self.x_0, self.y_0, marker='o', s=100, color='k', zorder=10)\n",
        "        b = self.axc.hlines(self.y_0, self.axc.get_xlim()[0], self.x_0, lw=2, ls='dotted', color='k')\n",
        "        c = self.axc.vlines(self.x_0, self.axc.get_ylim()[0], self.y_0, lw=2, ls='dotted', color='k')\n",
        "        d = self.axs.scatter3D(self.x_0, self.y_0, self.f(self.x_0, self.y_0), s=100, color='r', zorder=10)\n",
        "        t_it = self.axs.text(self.t_position[0], self.t_position[1], self.t_position[2],\n",
        "                             f\"Iteration #${self.i}$\", size=10, zorder=20)\n",
        "        t_x_y = self.axs.text(self.t_position[0], self.t_position[1], self.t_position[2]-self.t_space,\n",
        "                             f\"$x_0, y_0 = {self.x_0:0.2f}, {self.y_0:0.2f}$\", size=10, zorder=20)\n",
        "        t_f = self.axs.text(self.t_position[0], self.t_position[1], self.t_position[2]-self.t_space*2,\n",
        "                             f\"$f\\\\,\\\\left(x_0, y_0\\\\right) = {self.f(self.x_0, self.y_0):0.2f}$\", size=10, zorder=20)\n",
        "        t_dfdx = self.axs.text(self.t_position[0], self.t_position[1], self.t_position[2]-self.t_space*3,\n",
        "                             f\"$f\\\\,'_x\\\\left(x_0, y_0\\\\right) = {self.dfdx(self.x_0, self.y_0):0.2f}$\", size=10, zorder=20)\n",
        "        t_dfdy = self.axs.text(self.t_position[0], self.t_position[1], self.t_position[2]-self.t_space*4,\n",
        "                             f\"$f\\\\,'_y\\\\left(x_0, y_0\\\\right) = {self.dfdy(self.x_0, self.y_0):0.2f}$\", size=10, zorder=20)\n",
        "        self.p_items = [a, b, c, d, t_it, t_x_y, t_f, t_dfdx, t_dfdy]\n",
        "        self.fig.canvas.draw()\n",
        "\n",
        "    def run_gd(self):\n",
        "        self.i = 1\n",
        "        x_0_new, y_0_new = self.gd(self.dfdx, self.dfdy, self.x_0, self.y_0, self.lr, 1)\n",
        "\n",
        "        while (self.i <= self.n_it and\n",
        "               (abs(self.dfdx(x_0_new, y_0_new)) >= 0.001 or abs(self.dfdy(x_0_new, y_0_new)) >= 0.001) and\n",
        "               x_0_new >= self.x_range[0] and x_0_new <= self.x_range[1] and\n",
        "               y_0_new >= self.y_range[0] and y_0_new <= self.y_range[1]):\n",
        "            x_0_new, y_0_new = self.gd(self.dfdx, self.dfdy, self.x_0, self.y_0, self.lr, 1)\n",
        "            self.path.add_path_item(x_0_new, y_0_new, self.f)\n",
        "            self.x_0 = x_0_new\n",
        "            self.y_0 = y_0_new\n",
        "            time.sleep(0.05)\n",
        "            self.update_plot_point()\n",
        "            clear_output(wait=True)\n",
        "            display(self.fig)\n",
        "            self.i += 1\n",
        "\n",
        "        if abs(self.dfdx(x_0_new, y_0_new)) >= 0.001 or abs(self.dfdy(x_0_new, y_0_new)) >= 0.001 or self.x_0 < self.x_range[0] or self.x_0 > self.x_range[1] or self.y_0 < self.y_range[0] or self.y_0 > self.y_range[1]:\n",
        "            t_res = self.axs.text(self.t_position[0], self.t_position[1], self.t_position[2]-self.t_space*5,\n",
        "                                  \"Has Not Converged\", size=10, zorder=20)\n",
        "        else:\n",
        "            t_res = self.axs.text(self.t_position[0], self.t_position[1], self.t_position[2]-self.t_space*5,\n",
        "                                  \"Converged\", size=10, zorder=20)\n",
        "        t_instruction = self.axs.text(*self.instr_position, \"[Click on the contour plot to choose initial point]\",\n",
        "                                     size=10, color=\"r\", transform=self.axs.transAxes)\n",
        "        self.p_items.append(t_res)\n",
        "        self.p_items.append(t_instruction)\n",
        "        # Clear last time at the end, so there is no duplicate with the cell output.\n",
        "        clear_output(wait=True)\n",
        "\n",
        "\n",
        "class path_2:\n",
        "    ''' tracks paths during gradient descent on contour and surface plots '''\n",
        "    def __init__(self, x_0, y_0, axc, axs):\n",
        "        ''' x_0, y_0 at start of path '''\n",
        "        self.path_items = []\n",
        "        self.x_0 = x_0\n",
        "        self.y_0 = y_0\n",
        "        self.axc = axc\n",
        "        self.axs = axs\n",
        "\n",
        "    def re_init(self, x_0, y_0):\n",
        "        for artist in self.path_items:\n",
        "            artist.remove()\n",
        "        self.path_items = []\n",
        "        self.x_0 = x_0\n",
        "        self.y_0 = y_0\n",
        "\n",
        "    def add_path_item(self, x_0, y_0, f):\n",
        "        a = FancyArrowPatch(\n",
        "            posA=(self.x_0, self.y_0), posB=(x_0, y_0), color='r',\n",
        "            arrowstyle='simple, head_width=5, head_length=10, tail_width=1.0',\n",
        "        )\n",
        "        b = self.axs.scatter3D(self.x_0, self.y_0, f(self.x_0, self.y_0),\n",
        "                               facecolors='none', edgecolors='r', ls='dotted', s=100, zorder=10)\n",
        "        self.axc.add_artist(a)\n",
        "        self.path_items.append(a)\n",
        "        self.path_items.append(b)\n",
        "        self.x_0 = x_0\n",
        "        self.y_0 = y_0"
      ],
      "metadata": {
        "id": "CPgSbM9tE5Jm"
      },
      "id": "CPgSbM9tE5Jm",
      "execution_count": 1,
      "outputs": []
    },
    {
      "cell_type": "code",
      "execution_count": 2,
      "id": "ae466878",
      "metadata": {
        "id": "ae466878"
      },
      "outputs": [],
      "source": [
        "import numpy as np\n",
        "import matplotlib.pyplot as plt\n",
        "# Some functions defined specifically for this notebook.\n",
        "#from w2_tools import (plot_f_cont_and_surf, gradient_descent_two_variables,\n",
        "#                      f_example_3, dfdx_example_3, dfdy_example_3,\n",
        "#                      f_example_4, dfdx_example_4, dfdy_example_4)\n",
        "# Magic command to make matplotlib plots interactive.\n",
        "#%matplotlib widget"
      ]
    },
    {
      "cell_type": "markdown",
      "id": "a605afb0",
      "metadata": {
        "id": "a605afb0"
      },
      "source": [
        "<a name='1'></a>\n",
        "## 1 - Function with One Global Minimum"
      ]
    },
    {
      "cell_type": "markdown",
      "id": "7df25271",
      "metadata": {
        "id": "7df25271"
      },
      "source": [
        "Let's explore a simple example of a function in two variables $f\\left(x, y\\right)$ with one global minimum. Such a function was discussed in the videos, it is predefined and uploaded into this notebook as `f_example_3` with its partial derivatives `dfdx_example_3` and `dfdy_example_3`. At this stage, you do not need to worry about the exact expression for that function and its partial derivatives, so you can focus on the implementation of gradient descent and the choice of the related parameters. Run the following cell to plot the function."
      ]
    },
    {
      "cell_type": "code",
      "execution_count": null,
      "id": "d83526e4",
      "metadata": {
        "id": "d83526e4"
      },
      "outputs": [],
      "source": [
        "plot_f_cont_and_surf([0, 5], [0, 5], [74, 85], f_example_3, cmap='coolwarm', view={'azim':-60,'elev':28})"
      ]
    },
    {
      "cell_type": "markdown",
      "id": "f84421da",
      "metadata": {
        "id": "f84421da"
      },
      "source": [
        "To find the minimum, you can implement gradient descent starting from the initial point $\\left(x_0, y_0\\right)$ and making steps iteration by iteration using the following equations:\n",
        "\n",
        "\n",
        "$$x_1 = x_0 - \\alpha \\frac{\\partial f}{\\partial x}(x_0, y_0),$$\n",
        "$$y_1 = y_0 - \\alpha \\frac{\\partial f}{\\partial y}(x_0, y_0),\\tag{1}$$\n",
        "\n",
        "where $\\alpha>0$ is a learning rate. Number of iterations is also a parameter. The method is implemented with the following code:"
      ]
    },
    {
      "cell_type": "code",
      "execution_count": 4,
      "id": "e5eb04ad",
      "metadata": {
        "id": "e5eb04ad"
      },
      "outputs": [],
      "source": [
        "def gradient_descent(dfdx, dfdy, x, y, learning_rate = 0.1, num_iterations = 100):\n",
        "    for iteration in range(num_iterations):\n",
        "        x, y = x - learning_rate * dfdx(x, y), y - learning_rate * dfdy(x, y)\n",
        "    return x, y"
      ]
    },
    {
      "cell_type": "markdown",
      "id": "eb8bdca3",
      "metadata": {
        "id": "eb8bdca3"
      },
      "source": [
        "Now to optimize the function, set up the parameters `num_iterations`, `learning_rate`, `x_initial`, `y_initial` and run gradient descent:"
      ]
    },
    {
      "cell_type": "code",
      "execution_count": null,
      "id": "5673ecfb",
      "metadata": {
        "id": "5673ecfb"
      },
      "outputs": [],
      "source": [
        "num_iterations = 30; learning_rate = 0.25; x_initial = 0.5; y_initial = 0.6\n",
        "print(\"Gradient descent result: x_min, y_min =\",\n",
        "      gradient_descent(dfdx_example_3, dfdy_example_3, x_initial, y_initial, learning_rate, num_iterations))"
      ]
    },
    {
      "cell_type": "markdown",
      "id": "73a835a0",
      "metadata": {
        "id": "73a835a0"
      },
      "source": [
        "You can see the visualization running the following code. Note that gradient descent in two variables performs steps on the plane, in a direction opposite to the gradient vector $\\begin{bmatrix}\\frac{\\partial f}{\\partial x}(x_0, y_0) \\\\ \\frac{\\partial f}{\\partial y}(x_0, y_0)\\end{bmatrix}$ with the learning rate $\\alpha$ as a scaling factor.\n",
        "\n",
        "By uncommenting different lines you can experiment with various sets of the parameter values and corresponding results. At the end of the animation, you can also click on the contour plot to choose the initial point and restart the animation automatically.\n",
        "\n",
        "Run a few experiments and try to explain what is actually happening in each of the cases."
      ]
    },
    {
      "cell_type": "code",
      "execution_count": null,
      "id": "20711620",
      "metadata": {
        "id": "20711620"
      },
      "outputs": [],
      "source": [
        "num_iterations = 20; learning_rate = 0.25; x_initial = 0.5; y_initial = 0.6\n",
        "# num_iterations = 20; learning_rate = 0.5; x_initial = 0.5; y_initial = 0.6\n",
        "# num_iterations = 20; learning_rate = 0.15; x_initial = 0.5; y_initial = 0.6\n",
        "# num_iterations = 20; learning_rate = 0.15; x_initial = 3.5; y_initial = 3.6\n",
        "\n",
        "gd_example_3 = gradient_descent_two_variables([0, 5], [0, 5], [74, 85],\n",
        "                                              f_example_3, dfdx_example_3, dfdy_example_3,\n",
        "                                              gradient_descent, num_iterations, learning_rate,\n",
        "                                              x_initial, y_initial,\n",
        "                                              [0.1, 0.1, 81.5], 2, [4, 1, 171],\n",
        "                                              cmap='coolwarm', view={'azim':-60,'elev':28})"
      ]
    },
    {
      "cell_type": "markdown",
      "id": "88824f8d",
      "metadata": {
        "id": "88824f8d"
      },
      "source": [
        "<a name='2'></a>\n",
        "## 2 - Function with Multiple Minima"
      ]
    },
    {
      "cell_type": "markdown",
      "id": "6e1c647c",
      "metadata": {
        "id": "6e1c647c"
      },
      "source": [
        "Let's investigate a more complicated case of a function, which was also shown in the videos:"
      ]
    },
    {
      "cell_type": "code",
      "execution_count": null,
      "id": "d2ea18d3",
      "metadata": {
        "id": "d2ea18d3"
      },
      "outputs": [],
      "source": [
        "plot_f_cont_and_surf([0, 5], [0, 5], [6, 9.5], f_example_4, cmap='terrain', view={'azim':-63,'elev':21})"
      ]
    },
    {
      "cell_type": "markdown",
      "id": "3ddc17a8",
      "metadata": {
        "id": "3ddc17a8"
      },
      "source": [
        "You can find its global minimum point by using gradient descent with the following parameters:"
      ]
    },
    {
      "cell_type": "code",
      "execution_count": null,
      "id": "8fef9c35",
      "metadata": {
        "id": "8fef9c35"
      },
      "outputs": [],
      "source": [
        "num_iterations = 100; learning_rate = 0.2; x_initial = 0.5; y_initial = 3\n",
        "\n",
        "print(\"Gradient descent result: x_min, y_min =\",\n",
        "      gradient_descent(dfdx_example_4, dfdy_example_4, x_initial, y_initial, learning_rate, num_iterations))"
      ]
    },
    {
      "cell_type": "markdown",
      "id": "ba6499be",
      "metadata": {
        "id": "ba6499be"
      },
      "source": [
        "However, the shape of the surface is much more complicated and not every initial point will bring you to the global minimum of this surface. Use the following code to explore various sets of parameters and the results of gradient descent."
      ]
    },
    {
      "cell_type": "code",
      "execution_count": null,
      "id": "c9269ef2",
      "metadata": {
        "id": "c9269ef2"
      },
      "outputs": [],
      "source": [
        "# Converges to the global minimum point.\n",
        "num_iterations = 30; learning_rate = 0.2; x_initial = 0.5; y_initial = 3\n",
        "# Converges to a local minimum point.\n",
        "# num_iterations = 20; learning_rate = 0.2; x_initial = 2; y_initial = 3\n",
        "# Converges to another local minimum point.\n",
        "# num_iterations = 20; learning_rate = 0.2; x_initial = 4; y_initial = 0.5\n",
        "\n",
        "gd_example_4 = gradient_descent_two_variables([0, 5], [0, 5], [6, 9.5],\n",
        "                                              f_example_4, dfdx_example_4, dfdy_example_4,\n",
        "                                              gradient_descent, num_iterations, learning_rate,\n",
        "                                              x_initial, y_initial,\n",
        "                                              [2, 2, 6], 0.5, [2, 1, 63],\n",
        "                                              cmap='terrain', view={'azim':-63,'elev':21})"
      ]
    },
    {
      "cell_type": "markdown",
      "id": "1028397e",
      "metadata": {
        "id": "1028397e"
      },
      "source": [
        "You had a chance to experience the robustness and limitations of the gradient descent methods for a function in two variables."
      ]
    }
  ],
  "metadata": {
    "kernelspec": {
      "display_name": "Python 3",
      "language": "python",
      "name": "python3"
    },
    "language_info": {
      "codemirror_mode": {
        "name": "ipython",
        "version": 3
      },
      "file_extension": ".py",
      "mimetype": "text/x-python",
      "name": "python",
      "nbconvert_exporter": "python",
      "pygments_lexer": "ipython3",
      "version": "3.8.8"
    },
    "colab": {
      "provenance": [],
      "toc_visible": true,
      "include_colab_link": true
    }
  },
  "nbformat": 4,
  "nbformat_minor": 5
}