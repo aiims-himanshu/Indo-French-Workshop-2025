{
  "cells": [
    {
      "cell_type": "markdown",
      "metadata": {
        "id": "view-in-github",
        "colab_type": "text"
      },
      "source": [
        "<a href=\"https://colab.research.google.com/github/aiims-himanshu/Indo-French-Workshop-2025/blob/main/6_Optimization_Using_Gradient_Descent_in_One_Variable.ipynb\" target=\"_parent\"><img src=\"https://colab.research.google.com/assets/colab-badge.svg\" alt=\"Open In Colab\"/></a>"
      ]
    },
    {
      "cell_type": "markdown",
      "id": "5e797b86",
      "metadata": {
        "id": "5e797b86"
      },
      "source": [
        "# Optimization Using Gradient Descent in One Variable"
      ]
    },
    {
      "cell_type": "markdown",
      "id": "c29d4eb9",
      "metadata": {
        "id": "c29d4eb9"
      },
      "source": [
        "To understand how to optimize functions using gradient descent, start from simple examples - functions of one variable. In this lab, you will implement the gradient descent method for functions with single and multiple minima, experiment with the parameters and visualize the results. This will allow you to understand the advantages and disadvantages of the gradient descent method."
      ]
    },
    {
      "cell_type": "markdown",
      "id": "18491c07",
      "metadata": {
        "id": "18491c07"
      },
      "source": [
        "# Table of Contents\n",
        "\n",
        "- [ 1 - Function with One Global Minimum](#1)\n",
        "- [ 2 - Function with Multiple Minima](#2)"
      ]
    },
    {
      "cell_type": "markdown",
      "id": "4bd109eb",
      "metadata": {
        "id": "4bd109eb"
      },
      "source": [
        "## Packages\n",
        "\n",
        "Run the following cell to load the packages you'll need.\n",
        "\n",
        "Following code is only for defining different function which will be usefull for running the iteration below. You can convert it into .py code and import the same if you want to use it for teaching to others. For the sake of workshop i have reduced libary buildup and defined code in single flow\n",
        "\n"
      ]
    },
    {
      "cell_type": "code",
      "source": [
        "import time\n",
        "import numpy as np\n",
        "import matplotlib.pyplot as plt\n",
        "from matplotlib.widgets import Button\n",
        "from matplotlib.patches import FancyArrowPatch\n",
        "from matplotlib.gridspec import GridSpec\n",
        "from IPython.display import display, clear_output\n",
        "\n",
        "\n",
        "def plot_f(x_range, y_range, f, ox_position):\n",
        "    x = np.linspace(*x_range, 100)\n",
        "    fig, ax = plt.subplots(1,1,figsize=(8,4))\n",
        "\n",
        "    fig.canvas.toolbar_visible = False\n",
        "    fig.canvas.header_visible = False\n",
        "    fig.canvas.footer_visible = False\n",
        "\n",
        "    ax.set_ylim(*y_range)\n",
        "    ax.set_xlim(*x_range)\n",
        "    ax.set_ylabel('$f$')\n",
        "    ax.set_xlabel('$x$')\n",
        "    ax.spines['left'].set_position('zero')\n",
        "    ax.spines['bottom'].set_position(('data', ox_position))\n",
        "    ax.spines['right'].set_color('none')\n",
        "    ax.spines['top'].set_color('none')\n",
        "    ax.xaxis.set_ticks_position('bottom')\n",
        "    ax.yaxis.set_ticks_position('left')\n",
        "    ax.autoscale(enable=False)\n",
        "\n",
        "    pf = ax.plot(x, f(x), 'k')\n",
        "\n",
        "    return fig, ax\n",
        "\n",
        "\n",
        "class gradient_descent_one_variable:\n",
        "    \"\"\" class to run one interactive plot \"\"\"\n",
        "    def __init__(self, x_range, y_range, f, dfdx, gd, n_it, lr, x_0, ox_position, t_position):\n",
        "        x = np.linspace(*x_range, 100)\n",
        "        fig, ax = plot_f(x_range, y_range, f, ox_position)\n",
        "\n",
        "        # Initialize plot.\n",
        "        self.fig = fig\n",
        "        self.ax = ax\n",
        "        self.x = x\n",
        "        self.f = f\n",
        "        self.dfdx = dfdx\n",
        "        self.gd = gd\n",
        "        self.n_it = n_it\n",
        "        self.lr = lr\n",
        "        self.x_0 = x_0\n",
        "        self.x_range = x_range\n",
        "        self.i = 0\n",
        "        self.ox_position = ox_position\n",
        "        self.t_position = t_position\n",
        "\n",
        "        self.update_plot_point(firsttime=True)\n",
        "        self.path = path(self.x_0, self.ax, self.ox_position)  # initialize an empty path, avoids existance check\n",
        "\n",
        "        time.sleep(0.2)\n",
        "        clear_output(wait=True)\n",
        "        display(self.fig)\n",
        "\n",
        "        self.run_gd()\n",
        "        self.cpoint = self.fig.canvas.mpl_connect('button_press_event', self.click_plot)\n",
        "\n",
        "    def click_plot(self, event):\n",
        "        ''' Called when click in plot '''\n",
        "        if (event.xdata <= max(self.x) and event.xdata >= min(self.x)):\n",
        "            self.x_0 = event.xdata\n",
        "            self.i = 0\n",
        "            self.path.re_init(self.x_0)\n",
        "            self.update_plot_point()\n",
        "            time.sleep(0.2)\n",
        "            self.run_gd()\n",
        "\n",
        "    def update_plot_point(self, firsttime=False):\n",
        "\n",
        "        # Remove items and re-add them on plot.\n",
        "        if not firsttime:\n",
        "            for artist in self.p_items:\n",
        "                artist.remove()\n",
        "\n",
        "        a = self.ax.scatter(self.x_0, self.f(self.x_0), marker='o', s=100, color='r', zorder=10)\n",
        "        b = self.ax.scatter(self.x_0, self.ox_position, marker='o', s=100, color='k', zorder=10)\n",
        "        c = self.ax.hlines(self.f(self.x_0), 0, self.x_0, lw=2, ls='dotted', color='k')\n",
        "        d = self.ax.vlines(self.x_0, self.ox_position, self.f(self.x_0), lw=2, ls='dotted', color='k')\n",
        "        t_it = self.ax.annotate(f\"Iteration #${self.i}$\", xy=(self.t_position[0], self.t_position[1]),\n",
        "                                xytext=(4,4), textcoords='offset points', size=10)\n",
        "        t_x_0 = self.ax.annotate(f\"$x_0 = {self.x_0:0.4f}$\", xy=(self.t_position[0], self.t_position[1]-1),\n",
        "                                 xytext=(4,4), textcoords='offset points', size=10)\n",
        "        t_f = self.ax.annotate(f\"$f\\\\,\\\\left(x_0\\\\right) = {self.f(self.x_0):0.2f}$\",\n",
        "                               xy=(self.t_position[0], self.t_position[1]-2), xytext=(4,4),\n",
        "                              textcoords='offset points', size=10)\n",
        "        t_dfdx = self.ax.annotate(f\"$f\\\\,'\\\\left(x_0\\\\right) = {self.dfdx(self.x_0):0.4f}$\",\n",
        "                                  xy=(self.t_position[0], self.t_position[1]-3),\n",
        "                                  xytext=(4,4), textcoords='offset points', size=10)\n",
        "\n",
        "        self.p_items = [a, b, c, d, t_it, t_x_0, t_f, t_dfdx]\n",
        "        self.fig.canvas.draw()\n",
        "\n",
        "    def run_gd(self):\n",
        "        self.i = 1\n",
        "        x_0_new = self.gd(self.dfdx, self.x_0, self.lr, 1)\n",
        "        while (self.i <= self.n_it and abs(self.dfdx(x_0_new)) >= 0.00001 and x_0_new >= self.x_range[0]):\n",
        "            x_0_new = self.gd(self.dfdx, self.x_0, self.lr, 1)\n",
        "            self.path.add_path_item(x_0_new, self.f)\n",
        "            self.x_0 = x_0_new\n",
        "            time.sleep(0.05)\n",
        "            self.update_plot_point()\n",
        "            clear_output(wait=True)\n",
        "            display(self.fig)\n",
        "            self.i += 1\n",
        "\n",
        "        if abs(self.dfdx(self.x_0)) >= 0.00001 or self.x_0 < self.x_range[0] or self.x_0 < self.x_range[0]:\n",
        "            t_res = self.ax.annotate(\"Has Not Converged\", xy=(self.t_position[0], self.t_position[1]-4),\n",
        "                             xytext=(4,4), textcoords='offset points', size=10)\n",
        "        else:\n",
        "            t_res = self.ax.annotate(\"Converged\", xy=(self.t_position[0], self.t_position[1]-4),\n",
        "                             xytext=(4,4), textcoords='offset points', size=10)\n",
        "        t_instruction = self.ax.text(0.3,0.95,\"[Click on the plot to choose initial point]\",\n",
        "                                     size=10, color=\"r\", transform=self.ax.transAxes)\n",
        "        self.p_items.append(t_res)\n",
        "        self.p_items.append(t_instruction)\n",
        "        # Clear last time at the end, so there is no duplicate with the cell output.\n",
        "        clear_output(wait=True)\n",
        "#         plt.close()\n",
        "\n",
        "\n",
        "class path:\n",
        "    ''' tracks paths during gradient descent on the plot '''\n",
        "    def __init__(self, x_0, ax, ox_position):\n",
        "        ''' x_0 at start of path '''\n",
        "        self.path_items = []\n",
        "        self.x_0 = x_0\n",
        "        self.ax = ax\n",
        "        self.ox_position = ox_position\n",
        "\n",
        "    def re_init(self, x_0):\n",
        "        for artist in self.path_items:\n",
        "            artist.remove()\n",
        "        self.path_items = []\n",
        "        self.x_0 = x_0\n",
        "\n",
        "    def add_path_item(self, x_0, f):\n",
        "        a = FancyArrowPatch(\n",
        "            posA=(self.x_0, self.ox_position), posB=(x_0, self.ox_position), color='r',\n",
        "            arrowstyle='simple, head_width=5, head_length=10, tail_width=1.0',\n",
        "        )\n",
        "        b = self.ax.scatter(self.x_0, f(self.x_0), facecolors='none', edgecolors='r', ls='dotted', s=100, zorder=10)\n",
        "        self.ax.add_artist(a)\n",
        "        self.path_items.append(a)\n",
        "        self.path_items.append(b)\n",
        "        self.x_0 = x_0\n",
        "\n",
        "\n",
        "# +\n",
        "def f_example_2(x):\n",
        "    return (np.exp(x) - np.log(x))*np.sin(np.pi*x*2)\n",
        "\n",
        "def dfdx_example_2(x):\n",
        "    return (np.exp(x) - 1/x)*np.sin(np.pi*x*2) + (np.exp(x) - \\\n",
        "              np.log(x))*np.cos(np.pi*x*2)*2*np.pi\n",
        "\n",
        "\n",
        "# +\n",
        "def f_example_3(x,y):\n",
        "    return (85+ 0.1*(- 1/9*(x-6)*x**2*y**3 + 2/3*(x-6)*x**2*y**2))\n",
        "\n",
        "def dfdx_example_3(x,y):\n",
        "    return 0.1/3*x*y**2*(2-y/3)*(3*x-12)\n",
        "\n",
        "def dfdy_example_3(x,y):\n",
        "    return 0.1/3*(x-6)*x**2*y*(4-y)\n",
        "\n",
        "\n",
        "# +\n",
        "def f_example_4(x,y):\n",
        "    return -(10/(3+3*(x-.5)**2+3*(y-.5)**2) + \\\n",
        "            2/(1+2*((x-3)**2)+2*(y-1.5)**2) + \\\n",
        "            3/(1+.5*((x-3.5)**2)+0.5*(y-4)**2))+10\n",
        "\n",
        "def dfdx_example_4(x,y):\n",
        "    return  -(-2*3*(x-0.5)*10/(3+3*(x-0.5)**2+3*(y-0.5)**2)**2 + \\\n",
        "            -2*2*(x-3)*2/(1+2*((x-3)**2)+2*(y-1.5)**2)**2 +\\\n",
        "            -2*0.5*(x-3.5)*3/(1+.5*((x-3.5)**2)+0.5*(y-4)**2)**2)\n",
        "\n",
        "def dfdy_example_4(x,y):\n",
        "    return -(-2*3*(y-0.5)*10/(3+3*(x-0.5)**2+3*(y-0.5)**2)**2 + \\\n",
        "            -2*2*(y-1.5)*2/(1+2*((x-3)**2)+2*(y-1.5)**2)**2 +\\\n",
        "            -0.5*2*(y-4)*3/(1+.5*((x-3.5)**2)+0.5*(y-4)**2)**2)\n",
        "\n",
        "\n",
        "# -\n",
        "\n",
        "def plot_f_cont_and_surf(x_range, y_range, z_range, f, cmap, view):\n",
        "\n",
        "    fig = plt.figure( figsize=(10,5))\n",
        "    fig.canvas.toolbar_visible = False\n",
        "    fig.canvas.header_visible = False\n",
        "    fig.canvas.footer_visible = False\n",
        "    fig.set_facecolor('#ffffff') #white\n",
        "    gs = GridSpec(1, 2, figure=fig)\n",
        "    axc = fig.add_subplot(gs[0, 0])\n",
        "    axs = fig.add_subplot(gs[0, 1],  projection='3d')\n",
        "\n",
        "    x = np.linspace(*x_range, 51)\n",
        "    y = np.linspace(*y_range, 51)\n",
        "    X,Y = np.meshgrid(x,y)\n",
        "\n",
        "    cont = axc.contour(X, Y, f(X, Y), cmap=cmap, levels=18, linewidths=2, alpha=0.7)\n",
        "    axc.set_xlabel('$x$')\n",
        "    axc.set_ylabel('$y$')\n",
        "    axc.set_xlim(*x_range)\n",
        "    axc.set_ylim(*y_range)\n",
        "    axc.set_aspect(\"equal\")\n",
        "    axc.autoscale(enable=False)\n",
        "\n",
        "    surf = axs.plot_surface(X,Y, f(X,Y), cmap=cmap,\n",
        "                    antialiased=True, cstride=1, rstride=1, alpha=0.69)\n",
        "    axs.set_xlabel('$x$')\n",
        "    axs.set_ylabel('$y$')\n",
        "    axs.set_zlabel('$f$')\n",
        "    axs.set_xlim(*x_range)\n",
        "    axs.set_ylim(*y_range)\n",
        "    axs.set_zlim(*z_range)\n",
        "    axs.view_init(elev=view['elev'], azim=view['azim'])\n",
        "    axs.autoscale(enable=False)\n",
        "\n",
        "    return fig, axc, axs\n",
        "\n",
        "\n",
        "class gradient_descent_two_variables:\n",
        "    \"\"\" class to run one interactive plot \"\"\"\n",
        "    def __init__(self, x_range, y_range, z_range, f, dfdx, dfdy, gd, n_it, lr, x_0, y_0,\n",
        "                 t_position, t_space, instr_position, cmap, view):\n",
        "\n",
        "        x = np.linspace(*x_range, 51)\n",
        "        y = np.linspace(*y_range, 51)\n",
        "        fig, axc, axs = plot_f_cont_and_surf(x_range, y_range, z_range, f, cmap, view)\n",
        "\n",
        "        # Initialize plot.\n",
        "        self.fig = fig\n",
        "        self.axc = axc\n",
        "        self.axs = axs\n",
        "        self.x = x\n",
        "        self.y = y\n",
        "        self.f = f\n",
        "        self.dfdx = dfdx\n",
        "        self.dfdy = dfdy\n",
        "        self.gd = gd\n",
        "        self.n_it = n_it\n",
        "        self.lr = lr\n",
        "        self.x_0 = x_0\n",
        "        self.y_0 = y_0\n",
        "        self.x_range = x_range\n",
        "        self.y_range = y_range\n",
        "        self.i = 0\n",
        "        self.t_position = t_position\n",
        "        self.t_space = t_space\n",
        "        self.instr_position = instr_position\n",
        "\n",
        "        self.update_plot_point(firsttime=True)\n",
        "        self.path = path_2(self.x_0, self.y_0, self.axc, self.axs)  # initialize an empty path, avoids existance check\n",
        "\n",
        "        time.sleep(0.2)\n",
        "        clear_output(wait=True)\n",
        "        display(self.fig)\n",
        "\n",
        "        self.run_gd()\n",
        "        self.cpoint = self.fig.canvas.mpl_connect('button_press_event', self.click_plot)\n",
        "\n",
        "    def click_plot(self, event):\n",
        "        ''' Called when click in plot '''\n",
        "        if (event.xdata <= max(self.x) and event.xdata >= min(self.x) and\n",
        "            event.ydata <= max(self.y) and event.ydata >= min(self.y)):\n",
        "            self.x_0 = event.xdata\n",
        "            self.y_0 = event.ydata\n",
        "            self.i = 0\n",
        "            self.path.re_init(self.x_0, self.y_0)\n",
        "            self.update_plot_point()\n",
        "            time.sleep(0.2)\n",
        "            self.run_gd()\n",
        "\n",
        "    def update_plot_point(self, firsttime=False):\n",
        "\n",
        "        # Remove items and re-add them on plot.\n",
        "        if not firsttime:\n",
        "            for artist in self.p_items:\n",
        "                artist.remove()\n",
        "\n",
        "        a = self.axc.scatter(self.x_0, self.y_0, marker='o', s=100, color='k', zorder=10)\n",
        "        b = self.axc.hlines(self.y_0, self.axc.get_xlim()[0], self.x_0, lw=2, ls='dotted', color='k')\n",
        "        c = self.axc.vlines(self.x_0, self.axc.get_ylim()[0], self.y_0, lw=2, ls='dotted', color='k')\n",
        "        d = self.axs.scatter3D(self.x_0, self.y_0, self.f(self.x_0, self.y_0), s=100, color='r', zorder=10)\n",
        "        t_it = self.axs.text(self.t_position[0], self.t_position[1], self.t_position[2],\n",
        "                             f\"Iteration #${self.i}$\", size=10, zorder=20)\n",
        "        t_x_y = self.axs.text(self.t_position[0], self.t_position[1], self.t_position[2]-self.t_space,\n",
        "                             f\"$x_0, y_0 = {self.x_0:0.2f}, {self.y_0:0.2f}$\", size=10, zorder=20)\n",
        "        t_f = self.axs.text(self.t_position[0], self.t_position[1], self.t_position[2]-self.t_space*2,\n",
        "                             f\"$f\\\\,\\\\left(x_0, y_0\\\\right) = {self.f(self.x_0, self.y_0):0.2f}$\", size=10, zorder=20)\n",
        "        t_dfdx = self.axs.text(self.t_position[0], self.t_position[1], self.t_position[2]-self.t_space*3,\n",
        "                             f\"$f\\\\,'_x\\\\left(x_0, y_0\\\\right) = {self.dfdx(self.x_0, self.y_0):0.2f}$\", size=10, zorder=20)\n",
        "        t_dfdy = self.axs.text(self.t_position[0], self.t_position[1], self.t_position[2]-self.t_space*4,\n",
        "                             f\"$f\\\\,'_y\\\\left(x_0, y_0\\\\right) = {self.dfdy(self.x_0, self.y_0):0.2f}$\", size=10, zorder=20)\n",
        "        self.p_items = [a, b, c, d, t_it, t_x_y, t_f, t_dfdx, t_dfdy]\n",
        "        self.fig.canvas.draw()\n",
        "\n",
        "    def run_gd(self):\n",
        "        self.i = 1\n",
        "        x_0_new, y_0_new = self.gd(self.dfdx, self.dfdy, self.x_0, self.y_0, self.lr, 1)\n",
        "\n",
        "        while (self.i <= self.n_it and\n",
        "               (abs(self.dfdx(x_0_new, y_0_new)) >= 0.001 or abs(self.dfdy(x_0_new, y_0_new)) >= 0.001) and\n",
        "               x_0_new >= self.x_range[0] and x_0_new <= self.x_range[1] and\n",
        "               y_0_new >= self.y_range[0] and y_0_new <= self.y_range[1]):\n",
        "            x_0_new, y_0_new = self.gd(self.dfdx, self.dfdy, self.x_0, self.y_0, self.lr, 1)\n",
        "            self.path.add_path_item(x_0_new, y_0_new, self.f)\n",
        "            self.x_0 = x_0_new\n",
        "            self.y_0 = y_0_new\n",
        "            time.sleep(0.05)\n",
        "            self.update_plot_point()\n",
        "            clear_output(wait=True)\n",
        "            display(self.fig)\n",
        "            self.i += 1\n",
        "\n",
        "        if abs(self.dfdx(x_0_new, y_0_new)) >= 0.001 or abs(self.dfdy(x_0_new, y_0_new)) >= 0.001 or self.x_0 < self.x_range[0] or self.x_0 > self.x_range[1] or self.y_0 < self.y_range[0] or self.y_0 > self.y_range[1]:\n",
        "            t_res = self.axs.text(self.t_position[0], self.t_position[1], self.t_position[2]-self.t_space*5,\n",
        "                                  \"Has Not Converged\", size=10, zorder=20)\n",
        "        else:\n",
        "            t_res = self.axs.text(self.t_position[0], self.t_position[1], self.t_position[2]-self.t_space*5,\n",
        "                                  \"Converged\", size=10, zorder=20)\n",
        "        t_instruction = self.axs.text(*self.instr_position, \"[Click on the contour plot to choose initial point]\",\n",
        "                                     size=10, color=\"r\", transform=self.axs.transAxes)\n",
        "        self.p_items.append(t_res)\n",
        "        self.p_items.append(t_instruction)\n",
        "        # Clear last time at the end, so there is no duplicate with the cell output.\n",
        "        clear_output(wait=True)\n",
        "\n",
        "\n",
        "class path_2:\n",
        "    ''' tracks paths during gradient descent on contour and surface plots '''\n",
        "    def __init__(self, x_0, y_0, axc, axs):\n",
        "        ''' x_0, y_0 at start of path '''\n",
        "        self.path_items = []\n",
        "        self.x_0 = x_0\n",
        "        self.y_0 = y_0\n",
        "        self.axc = axc\n",
        "        self.axs = axs\n",
        "\n",
        "    def re_init(self, x_0, y_0):\n",
        "        for artist in self.path_items:\n",
        "            artist.remove()\n",
        "        self.path_items = []\n",
        "        self.x_0 = x_0\n",
        "        self.y_0 = y_0\n",
        "\n",
        "    def add_path_item(self, x_0, y_0, f):\n",
        "        a = FancyArrowPatch(\n",
        "            posA=(self.x_0, self.y_0), posB=(x_0, y_0), color='r',\n",
        "            arrowstyle='simple, head_width=5, head_length=10, tail_width=1.0',\n",
        "        )\n",
        "        b = self.axs.scatter3D(self.x_0, self.y_0, f(self.x_0, self.y_0),\n",
        "                               facecolors='none', edgecolors='r', ls='dotted', s=100, zorder=10)\n",
        "        self.axc.add_artist(a)\n",
        "        self.path_items.append(a)\n",
        "        self.path_items.append(b)\n",
        "        self.x_0 = x_0\n",
        "        self.y_0 = y_0"
      ],
      "metadata": {
        "id": "nf_XF-MPC5tB"
      },
      "id": "nf_XF-MPC5tB",
      "execution_count": 4,
      "outputs": []
    },
    {
      "cell_type": "code",
      "execution_count": 11,
      "id": "ae466878",
      "metadata": {
        "id": "ae466878"
      },
      "outputs": [],
      "source": [
        "import numpy as np\n",
        "import matplotlib.pyplot as plt\n",
        "from matplotlib.widgets import Button\n",
        "from matplotlib.patches import FancyArrowPatch\n",
        "from matplotlib.gridspec import GridSpec\n",
        "from IPython.display import display, clear_output\n",
        "# Magic command to make matplotlib plots interactive.\n",
        "# %matplotlib widget"
      ]
    },
    {
      "cell_type": "markdown",
      "id": "cc7350e4",
      "metadata": {
        "id": "cc7350e4"
      },
      "source": [
        "<a name='1'></a>\n",
        "## 1 - Function with One Global Minimum"
      ]
    },
    {
      "cell_type": "markdown",
      "id": "8d92c5b7",
      "metadata": {
        "id": "8d92c5b7"
      },
      "source": [
        "Function $f\\left(x\\right)=e^x - \\log(x)$ (defined for $x>0$) is a function of one variable which has only one **minimum point** (called **global minimum**). However, sometimes that minimum point cannot be found analytically - solving the equation $\\frac{df}{dx}=0$. It can be done using a gradient descent method.\n",
        "\n",
        "To implement gradient descent, you need to start from some initial point $x_0$. Aiming to find a point, where the derivative equals zero, you want to move \"down the hill\". Calculate the derivative $\\frac{df}{dx}(x_0)$ (called a **gradient**) and step to the next point using the expression:\n",
        "\n",
        "$$x_1 = x_0 - \\alpha \\frac{df}{dx}(x_0),\\tag{1}$$\n",
        "\n",
        "where $\\alpha>0$ is a parameter called a **learning rate**. Repeat the process iteratively. The number of iterations $n$ is usually also a parameter.\n",
        "\n",
        "Subtracting $\\frac{df}{dx}(x_0)$ you move \"down the hill\" against the increase of the function - toward the minimum point. So, $\\frac{df}{dx}(x_0)$ generally defines the direction of movement. Parameter $\\alpha$ serves as a scaling factor.\n",
        "\n",
        "Now it's time to implement the gradient descent method and experiment with the parameters!\n",
        "\n",
        "First, define function $f\\left(x\\right)=e^x - \\log(x)$ and its derivative $\\frac{df}{dx}\\left(x\\right)=e^x - \\frac{1}{x}$:"
      ]
    },
    {
      "cell_type": "code",
      "execution_count": 12,
      "id": "018e0f4c",
      "metadata": {
        "id": "018e0f4c"
      },
      "outputs": [],
      "source": [
        "def f_example_1(x):\n",
        "    return np.exp(x) - np.log(x)\n",
        "\n",
        "def dfdx_example_1(x):\n",
        "    return np.exp(x) - 1/x"
      ]
    },
    {
      "cell_type": "markdown",
      "id": "88843676",
      "metadata": {
        "id": "88843676"
      },
      "source": [
        "Function $f\\left(x\\right)$ has one global minimum. Let's plot the function:"
      ]
    },
    {
      "cell_type": "code",
      "execution_count": null,
      "id": "f5d4b4f0",
      "metadata": {
        "id": "f5d4b4f0"
      },
      "outputs": [],
      "source": [
        "plot_f([0.001, 2.5], [-0.3, 13], f_example_1, 0.0)"
      ]
    },
    {
      "cell_type": "markdown",
      "id": "d3ece7aa",
      "metadata": {
        "id": "d3ece7aa"
      },
      "source": [
        "Gradient descent can be implemented in the following function:"
      ]
    },
    {
      "cell_type": "code",
      "execution_count": 14,
      "id": "3d35a4cb",
      "metadata": {
        "id": "3d35a4cb"
      },
      "outputs": [],
      "source": [
        "def gradient_descent(dfdx, x, learning_rate = 0.1, num_iterations = 100):\n",
        "    for iteration in range(num_iterations):\n",
        "        x = x - learning_rate * dfdx(x)\n",
        "    return x"
      ]
    },
    {
      "cell_type": "markdown",
      "id": "abd7a1c4",
      "metadata": {
        "id": "abd7a1c4"
      },
      "source": [
        "Note that there are three parameters in this implementation: `num_iterations`, `learning_rate`, initial point `x_initial`. Model parameters for such methods as gradient descent are usually found experimentially. For now, just assume that you know the parameters that will work in this model - you will see the discussion of that later. To optimize the function, set up the parameters and call the defined function `gradient_descent`:"
      ]
    },
    {
      "cell_type": "code",
      "execution_count": null,
      "id": "a3aa3c23",
      "metadata": {
        "id": "a3aa3c23"
      },
      "outputs": [],
      "source": [
        "num_iterations = 25; learning_rate = 0.1; x_initial = 1.6\n",
        "print(\"Gradient descent result: x_min =\", gradient_descent(dfdx_example_1, x_initial, learning_rate, num_iterations))"
      ]
    },
    {
      "cell_type": "markdown",
      "id": "b5656b68",
      "metadata": {
        "id": "b5656b68"
      },
      "source": [
        "The code in following cell will help you to visualize and understand the gradient descent method deeper. After the end of the animation, you can click on the plot to choose a new initial point and investigate how the gradient descent method will be performed.\n",
        "\n",
        "You can see that it works successfully here, bringing it to the global minimum point!\n",
        "\n",
        "What if some of the parameters will be changed? Will the method always work? Uncomment the lines in the cell below and rerun the code to investigate what happens if other parameter values are chosen. Try to investigate and analyse the results. You can read some comments below.\n",
        "\n",
        "*Notes related to this animation*:\n",
        "- Gradient descent is performed with some pauses between the iterations for visualization purposes. The actual implementation is much faster.\n",
        "- The animation stops when minimum point is reached with certain accuracy (it might be a smaller number of steps than `num_iterations`) - to avoid long runs of the code and for teaching purposes.\n",
        "- Please wait for the end of the animation before making any code changes or rerunning the cell. In case of any issues, you can try to restart the Kernel and rerun the notebook."
      ]
    },
    {
      "cell_type": "code",
      "execution_count": null,
      "id": "b9eece7b",
      "metadata": {
        "id": "b9eece7b"
      },
      "outputs": [],
      "source": [
        "num_iterations = 25; learning_rate = 0.1; x_initial = 1.6\n",
        "# num_iterations = 25; learning_rate = 0.3; x_initial = 1.6\n",
        "# num_iterations = 25; learning_rate = 0.5; x_initial = 1.6\n",
        "# num_iterations = 25; learning_rate = 0.04; x_initial = 1.6\n",
        "# num_iterations = 75; learning_rate = 0.04; x_initial = 1.6\n",
        "# num_iterations = 25; learning_rate = 0.1; x_initial = 0.05\n",
        "# num_iterations = 25; learning_rate = 0.1; x_initial = 0.03\n",
        "# num_iterations = 25; learning_rate = 0.1; x_initial = 0.02\n",
        "\n",
        "gd_example_1 = gradient_descent_one_variable([0.001, 2.5], [-0.3, 13], f_example_1, dfdx_example_1,\n",
        "                                   gradient_descent, num_iterations, learning_rate, x_initial, 0.0, [0.35, 9.5])"
      ]
    },
    {
      "cell_type": "markdown",
      "id": "17d96ced",
      "metadata": {
        "id": "17d96ced"
      },
      "source": [
        "Comments related to the choice of the parameters in the animation above:\n",
        "\n",
        "- Choosing `num_iterations = 25`, `learning_rate = 0.1`, `x_initial = 1.6` you get to the minimum point successfully. Even a little bit earlier - on the iteration 21, so for this choice of the learning rate and initial point, the number of iterations could have been taken less than `25` to save some computation time.\n",
        "\n",
        "- Increasing the `learning_rate` to `0.3` you can see that the method converges even faster - you need less number of iterations. But note that the steps are larger and this may cause some problems.\n",
        "\n",
        "- Increasing the `learning_rate` further to `0.5` the method doesn't converge anymore! You steped too far away from the minimum point. So, be careful - increasing `learning_rate` the method may converge significantly faster... or not converge at all.\n",
        "\n",
        "- To be \"safe\", you may think, why not to decrease `learning_rate`?! Take it `0.04`, keeping the rest of the parameters the same. The model will not run enough number of iterations to converge!\n",
        "\n",
        "- Increasing `num_iterations`, say to `75`, the model will converge but slowly. This would be more \"expensive\" computationally.\n",
        "\n",
        "- What if you get back to the original parameters `num_iterations = 25`, `learning_rate = 0.1`, but choose some other `x_initial`, e.g. `0.05`? The function is steeper at that point, thus the gradient is larger in absolute value, and the first step is larger. But it will work - you will get to the minimum point.\n",
        "\n",
        "- If you take `x_initial = 0.03` the function is even steeper, making the first step significantly larger. You are risking \"missing\" the minimum point.\n",
        "\n",
        "- Taking `x_initial = 0.02` the method doesn't converge anymore...\n",
        "\n",
        "This is a very simple example, but hopefully, it gives you an idea of how important is the choice of the initial parameters."
      ]
    },
    {
      "cell_type": "markdown",
      "id": "b223b5fc",
      "metadata": {
        "id": "b223b5fc"
      },
      "source": [
        "<a name='2'></a>\n",
        "## 2 - Function with Multiple Minima"
      ]
    },
    {
      "cell_type": "markdown",
      "id": "0c5ab6e6",
      "metadata": {
        "id": "0c5ab6e6"
      },
      "source": [
        "Now you can take a slightly more complicated example - a function in one variable, but with multiple minima. Such an example was shown in the videos, and you can plot the function with the following code:"
      ]
    },
    {
      "cell_type": "code",
      "execution_count": null,
      "id": "4d7c3352",
      "metadata": {
        "id": "4d7c3352"
      },
      "outputs": [],
      "source": [
        "plot_f([0.001, 2], [-6.3, 5], f_example_2, -6)"
      ]
    },
    {
      "cell_type": "markdown",
      "id": "8c394dac",
      "metadata": {
        "id": "8c394dac"
      },
      "source": [
        "Function `f_example_2` and its derivative `dfdx_example_2` are pre-defined and uploaded into this notebook. At this stage, while you are mastering the optimization method, do not worry about the corresponding expressions, just concentrate on the gradient descent and the related parameters for now.\n",
        "\n",
        "Use the following code to run gradient descent with the same `learning_rate` and `num_iterations`, but with a different starting point:"
      ]
    },
    {
      "cell_type": "code",
      "execution_count": null,
      "id": "78dab02b",
      "metadata": {
        "id": "78dab02b"
      },
      "outputs": [],
      "source": [
        "print(\"Gradient descent results\")\n",
        "print(\"Global minimum: x_min =\", gradient_descent(dfdx_example_2, x=1.3, learning_rate=0.005, num_iterations=35))\n",
        "print(\"Local minimum: x_min =\", gradient_descent(dfdx_example_2, x=0.25, learning_rate=0.005, num_iterations=35))"
      ]
    },
    {
      "cell_type": "markdown",
      "id": "ef98246a",
      "metadata": {
        "id": "ef98246a"
      },
      "source": [
        "The results are different. Both times the point did fall into one of the minima, but in the first run it was a global minimum, while in the second run it got \"stuck\" in a local one. To see the visualization of what is happening, run the code below. You can uncomment the lines to try different sets of parameters or click on the plot to choose the initial point (after the end of the animation)."
      ]
    },
    {
      "cell_type": "code",
      "execution_count": null,
      "id": "ca1f892d",
      "metadata": {
        "id": "ca1f892d"
      },
      "outputs": [],
      "source": [
        "num_iterations = 35; learning_rate = 0.005; x_initial = 1.3\n",
        "# num_iterations = 35; learning_rate = 0.005; x_initial = 0.25\n",
        "# num_iterations = 35; learning_rate = 0.01; x_initial = 1.3\n",
        "\n",
        "gd_example_2 = gradient_descent_one_variable([0.001, 2], [-6.3, 5], f_example_2, dfdx_example_2,\n",
        "                                      gradient_descent, num_iterations, learning_rate, x_initial, -6, [0.1, -0.5])"
      ]
    },
    {
      "cell_type": "markdown",
      "id": "7a1b84d9",
      "metadata": {
        "id": "7a1b84d9"
      },
      "source": [
        "You can see that gradient descent method is robust - it allows you to optimize a function with a small number of calculations, but it has some drawbacks. The efficiency of the method depends a lot on the choice of the initial parameters, and it is a challenge in machine learning applications to choose the \"right\" set of parameters to train the model!"
      ]
    }
  ],
  "metadata": {
    "kernelspec": {
      "display_name": "Python 3",
      "language": "python",
      "name": "python3"
    },
    "language_info": {
      "codemirror_mode": {
        "name": "ipython",
        "version": 3
      },
      "file_extension": ".py",
      "mimetype": "text/x-python",
      "name": "python",
      "nbconvert_exporter": "python",
      "pygments_lexer": "ipython3",
      "version": "3.8.8"
    },
    "colab": {
      "provenance": [],
      "include_colab_link": true
    }
  },
  "nbformat": 4,
  "nbformat_minor": 5
}